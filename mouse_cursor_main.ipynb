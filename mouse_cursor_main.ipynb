{
 "cells": [
  {
   "cell_type": "code",
   "execution_count": 15,
   "id": "5eed84ef-9e4e-4201-910a-2cd8fa649a5d",
   "metadata": {},
   "outputs": [],
   "source": [
    "import cv2\n",
    "import mediapipe as mp\n",
    "import pyautogui\n",
    "import util\n",
    "import random\n",
    "from pynput.mouse import Button, Controller\n",
    "mouse = Controller()"
   ]
  },
  {
   "cell_type": "code",
   "execution_count": 6,
   "id": "9b31108c-a959-468c-8b02-1613d7faf597",
   "metadata": {},
   "outputs": [
    {
     "name": "stdout",
     "output_type": "stream",
     "text": [
      "Requirement already satisfied: opencv-python in /opt/anaconda3/lib/python3.11/site-packages (4.10.0.84)\n",
      "Requirement already satisfied: numpy>=1.21.2 in /opt/anaconda3/lib/python3.11/site-packages (from opencv-python) (1.26.4)\n",
      "Requirement already satisfied: mediapipe in /opt/anaconda3/lib/python3.11/site-packages (0.10.15)\n",
      "Requirement already satisfied: absl-py in /opt/anaconda3/lib/python3.11/site-packages (from mediapipe) (2.1.0)\n",
      "Requirement already satisfied: attrs>=19.1.0 in /opt/anaconda3/lib/python3.11/site-packages (from mediapipe) (23.1.0)\n",
      "Requirement already satisfied: flatbuffers>=2.0 in /opt/anaconda3/lib/python3.11/site-packages (from mediapipe) (24.3.25)\n",
      "Requirement already satisfied: jax in /opt/anaconda3/lib/python3.11/site-packages (from mediapipe) (0.4.33)\n",
      "Requirement already satisfied: jaxlib in /opt/anaconda3/lib/python3.11/site-packages (from mediapipe) (0.4.33)\n",
      "Requirement already satisfied: matplotlib in /opt/anaconda3/lib/python3.11/site-packages (from mediapipe) (3.8.0)\n",
      "Requirement already satisfied: numpy<2 in /opt/anaconda3/lib/python3.11/site-packages (from mediapipe) (1.26.4)\n",
      "Requirement already satisfied: opencv-contrib-python in /opt/anaconda3/lib/python3.11/site-packages (from mediapipe) (4.10.0.84)\n",
      "Requirement already satisfied: protobuf<5,>=4.25.3 in /opt/anaconda3/lib/python3.11/site-packages (from mediapipe) (4.25.5)\n",
      "Requirement already satisfied: sounddevice>=0.4.4 in /opt/anaconda3/lib/python3.11/site-packages (from mediapipe) (0.5.0)\n",
      "Requirement already satisfied: CFFI>=1.0 in /opt/anaconda3/lib/python3.11/site-packages (from sounddevice>=0.4.4->mediapipe) (1.16.0)\n",
      "Requirement already satisfied: ml-dtypes>=0.2.0 in /opt/anaconda3/lib/python3.11/site-packages (from jax->mediapipe) (0.5.0)\n",
      "Requirement already satisfied: opt-einsum in /opt/anaconda3/lib/python3.11/site-packages (from jax->mediapipe) (3.3.0)\n",
      "Requirement already satisfied: scipy>=1.10 in /opt/anaconda3/lib/python3.11/site-packages (from jax->mediapipe) (1.11.4)\n",
      "Requirement already satisfied: contourpy>=1.0.1 in /opt/anaconda3/lib/python3.11/site-packages (from matplotlib->mediapipe) (1.2.0)\n",
      "Requirement already satisfied: cycler>=0.10 in /opt/anaconda3/lib/python3.11/site-packages (from matplotlib->mediapipe) (0.11.0)\n",
      "Requirement already satisfied: fonttools>=4.22.0 in /opt/anaconda3/lib/python3.11/site-packages (from matplotlib->mediapipe) (4.25.0)\n",
      "Requirement already satisfied: kiwisolver>=1.0.1 in /opt/anaconda3/lib/python3.11/site-packages (from matplotlib->mediapipe) (1.4.4)\n",
      "Requirement already satisfied: packaging>=20.0 in /opt/anaconda3/lib/python3.11/site-packages (from matplotlib->mediapipe) (23.1)\n",
      "Requirement already satisfied: pillow>=6.2.0 in /opt/anaconda3/lib/python3.11/site-packages (from matplotlib->mediapipe) (10.2.0)\n",
      "Requirement already satisfied: pyparsing>=2.3.1 in /opt/anaconda3/lib/python3.11/site-packages (from matplotlib->mediapipe) (3.0.9)\n",
      "Requirement already satisfied: python-dateutil>=2.7 in /opt/anaconda3/lib/python3.11/site-packages (from matplotlib->mediapipe) (2.8.2)\n",
      "Requirement already satisfied: pycparser in /opt/anaconda3/lib/python3.11/site-packages (from CFFI>=1.0->sounddevice>=0.4.4->mediapipe) (2.21)\n",
      "Requirement already satisfied: six>=1.5 in /opt/anaconda3/lib/python3.11/site-packages (from python-dateutil>=2.7->matplotlib->mediapipe) (1.16.0)\n"
     ]
    }
   ],
   "source": [
    "!pip install opencv-python\n",
    "!pip install mediapipe"
   ]
  },
  {
   "cell_type": "code",
   "execution_count": 7,
   "id": "59c79b32-79b6-46db-8bd0-262668c76c86",
   "metadata": {},
   "outputs": [
    {
     "name": "stdout",
     "output_type": "stream",
     "text": [
      "Requirement already satisfied: pyautogui in /opt/anaconda3/lib/python3.11/site-packages (0.9.54)\n",
      "Requirement already satisfied: pymsgbox in /opt/anaconda3/lib/python3.11/site-packages (from pyautogui) (1.0.9)\n",
      "Requirement already satisfied: pytweening>=1.0.4 in /opt/anaconda3/lib/python3.11/site-packages (from pyautogui) (1.2.0)\n",
      "Requirement already satisfied: pyscreeze>=0.1.21 in /opt/anaconda3/lib/python3.11/site-packages (from pyautogui) (1.0.1)\n",
      "Requirement already satisfied: pygetwindow>=0.0.5 in /opt/anaconda3/lib/python3.11/site-packages (from pyautogui) (0.0.9)\n",
      "Requirement already satisfied: mouseinfo in /opt/anaconda3/lib/python3.11/site-packages (from pyautogui) (0.1.3)\n",
      "Requirement already satisfied: pyobjc-core in /opt/anaconda3/lib/python3.11/site-packages (from pyautogui) (10.3.1)\n",
      "Requirement already satisfied: pyobjc-framework-quartz in /opt/anaconda3/lib/python3.11/site-packages (from pyautogui) (10.3.1)\n",
      "Requirement already satisfied: pyrect in /opt/anaconda3/lib/python3.11/site-packages (from pygetwindow>=0.0.5->pyautogui) (0.2.0)\n",
      "Requirement already satisfied: Pillow>=9.3.0 in /opt/anaconda3/lib/python3.11/site-packages (from pyscreeze>=0.1.21->pyautogui) (10.2.0)\n",
      "Requirement already satisfied: pyperclip in /opt/anaconda3/lib/python3.11/site-packages (from mouseinfo->pyautogui) (1.9.0)\n",
      "Requirement already satisfied: rubicon-objc in /opt/anaconda3/lib/python3.11/site-packages (from mouseinfo->pyautogui) (0.4.9)\n",
      "Requirement already satisfied: pyobjc-framework-Cocoa>=10.3.1 in /opt/anaconda3/lib/python3.11/site-packages (from pyobjc-framework-quartz->pyautogui) (10.3.1)\n"
     ]
    }
   ],
   "source": [
    "!pip install pyautogui"
   ]
  },
  {
   "cell_type": "code",
   "execution_count": 8,
   "id": "e29ffdb6-b4aa-4d5f-95b3-2e2b7192017b",
   "metadata": {},
   "outputs": [
    {
     "name": "stdout",
     "output_type": "stream",
     "text": [
      "Requirement already satisfied: pynput in /opt/anaconda3/lib/python3.11/site-packages (1.7.7)\n",
      "Requirement already satisfied: six in /opt/anaconda3/lib/python3.11/site-packages (from pynput) (1.16.0)\n",
      "Requirement already satisfied: pyobjc-framework-ApplicationServices>=8.0 in /opt/anaconda3/lib/python3.11/site-packages (from pynput) (10.3.1)\n",
      "Requirement already satisfied: pyobjc-framework-Quartz>=8.0 in /opt/anaconda3/lib/python3.11/site-packages (from pynput) (10.3.1)\n",
      "Requirement already satisfied: pyobjc-core>=10.3.1 in /opt/anaconda3/lib/python3.11/site-packages (from pyobjc-framework-ApplicationServices>=8.0->pynput) (10.3.1)\n",
      "Requirement already satisfied: pyobjc-framework-Cocoa>=10.3.1 in /opt/anaconda3/lib/python3.11/site-packages (from pyobjc-framework-ApplicationServices>=8.0->pynput) (10.3.1)\n",
      "Requirement already satisfied: pyobjc-framework-CoreText>=10.3.1 in /opt/anaconda3/lib/python3.11/site-packages (from pyobjc-framework-ApplicationServices>=8.0->pynput) (10.3.1)\n"
     ]
    }
   ],
   "source": [
    "!pip install pynput"
   ]
  },
  {
   "cell_type": "code",
   "execution_count": 9,
   "id": "89d65704-7910-4faf-b025-64e7b7e3c1bd",
   "metadata": {},
   "outputs": [
    {
     "name": "stderr",
     "output_type": "stream",
     "text": [
      "WARNING: All log messages before absl::InitializeLog() is called are written to STDERR\n",
      "I0000 00:00:1733140769.610269 2030151 gl_context.cc:357] GL version: 2.1 (2.1 Metal - 89.3), renderer: Apple M2\n"
     ]
    }
   ],
   "source": [
    "screen_width, screen_height = pyautogui.size()\n",
    "mouse = Controller()\n",
    "\n",
    "mpHands = mp.solutions.hands\n",
    "hands =mpHands.Hands(\n",
    "    static_image_mode=False,\n",
    "    model_complexity=1,\n",
    "    min_detection_confidence=0.5,\n",
    "    min_tracking_confidence=0.5,\n",
    "    max_num_hands = 1\n",
    ")"
   ]
  },
  {
   "cell_type": "code",
   "execution_count": 10,
   "id": "0ac7baac-e87c-4da0-8aa0-5be0b912d239",
   "metadata": {},
   "outputs": [],
   "source": [
    "def find_finger_tip(processed):\n",
    "    if processed.multi_hand_landmarks:\n",
    "        hand_landmarks = processed.multi_hand_landmarks[0]\n",
    "        return hand_landmarks.landmark[mpHands.HandLandmark.INDEX_FINGER_TIP]\n",
    "    return None  "
   ]
  },
  {
   "cell_type": "code",
   "execution_count": 11,
   "id": "e203fb68-d014-4cf2-b137-b7e2a45fb0e9",
   "metadata": {},
   "outputs": [
    {
     "name": "stderr",
     "output_type": "stream",
     "text": [
      "INFO: Created TensorFlow Lite XNNPACK delegate for CPU.\n"
     ]
    }
   ],
   "source": [
    "def move_mouse(index_finger_tip):\n",
    "    if index_finger_tip is not None:\n",
    "        x = int(index_finger_tip.x * screen_width)\n",
    "        y = int(index_finger_tip.y * screen_height)\n",
    "        pyautogui.moveTo(x,y)"
   ]
  },
  {
   "cell_type": "code",
   "execution_count": 12,
   "id": "cdd0639f-a9b3-48e1-8e85-fccff3290539",
   "metadata": {},
   "outputs": [],
   "source": [
    "def is_left_click(landmark_list, thumb_index_dist):\n",
    "    return (util.get_angle(landmark_list[5], landmark_list[6], landmark_list[8]) < 50 and \n",
    "            util.get_angle(landmark_list[9], landmark_list[10], landmark_list[12]) > 90 and\n",
    "            thumb_index_dist > 50\n",
    "           )\n",
    "\n",
    "def is_right_click(landmark_list, thumb_index_dist):\n",
    "    return (\n",
    "            util.get_angle(landmark_list[9], landmark_list[10], landmark_list[12]) < 50 and \n",
    "            util.get_angle(landmark_list[5], landmark_list[6], landmark_list[8]) > 90 and\n",
    "            thumb_index_dist > 50\n",
    "           )\n",
    "\n",
    "def is_double_click(landmark_list, thumb_index_dist):\n",
    "    return (\n",
    "            util.get_angle(landmark_list[5], landmark_list[6], landmark_list[8]) < 50 and \n",
    "            util.get_angle(landmark_list[9], landmark_list[10], landmark_list[12]) > 90 and\n",
    "            thumb_index_dist > 50\n",
    "           )\n",
    "\n",
    "def is_screenshot(landmark_list, thumb_index_dist):\n",
    "    return (\n",
    "            util.get_angle(landmark_list[5], landmark_list[6], landmark_list[8]) < 50 and \n",
    "            util.get_angle(landmark_list[9], landmark_list[10], landmark_list[12]) > 90 and\n",
    "            thumb_index_dist < 50\n",
    "           )\n",
    "        \n",
    "        \n",
    "                                                                                                        "
   ]
  },
  {
   "cell_type": "code",
   "execution_count": null,
   "id": "8b46ac02-1039-4d88-b855-774f356e3613",
   "metadata": {},
   "outputs": [],
   "source": [
    "def detect_gesture(frame, landmark_list, processed):\n",
    "    if len(landmark_list) >= 21:\n",
    "\n",
    "        index_finger_tip = find_finger_tip(processed)\n",
    "        # print(index_finger_tip)\n",
    "        thumb_index_dist = util.get_distance([landmark_list[4], landmark_list[5]])\n",
    "\n",
    "        if thumb_index_dist < 50 and util.get_angle(landmark_list[5], landmark_list[6], landmark_list[8])>90:\n",
    "            move_mouse(index_finger_tip)\n",
    "\n",
    "\n",
    "    # LEFT ClICK\n",
    "        elif is_left_click(landmark_list, thumb_index_dist):\n",
    "            mouse.press(Button.left)\n",
    "            mouse.release(Button.left)\n",
    "            cv2.putText(frame, \"Left Click\", (50,50), cv2.FONT_HERSHEY_SIMPLEX, 1, (0, 255, 0), 2)\n",
    "            \n",
    "\n",
    "    #RIGHT CLICK\n",
    "        elif is_right_click(landmark_list, thumb_index_dist):\n",
    "            mouse.press(Button.right)\n",
    "            mouse.release(Button.right)\n",
    "            cv2.putText(frame, \"Right Click\", (50,50), cv2.FONT_HERSHEY_SIMPLEX, 1, (0, 0, 255), 2)\n",
    "\n",
    "\n",
    "    #DOUBLE CLICK\n",
    "        elif is_double_click(landmark_list, thumb_index_dist):\n",
    "            pyautogui.doubleClick()\n",
    "            cv2.putText(frame, \"Double Click\", (50, 50), cv2.FONT_HERSHEY_SIMPLEX, 1, (255, 255, 0), 2)\n",
    "\n",
    "    #SCREENSHOT\n",
    "        elif is_screenshot(landmark_list, thumb_index_dist):\n",
    "            im1 = pyautogui.screenshot()\n",
    "            label = random.randint(1, 1000)\n",
    "            # im1.save(f'/Users/your_username/Desktop/my_screenshot_{label}.png')\n",
    "            # print(\"Screenshot saved to Desktop.\")\n",
    "            im1.save(f'my_screenshot_{label}.png')\n",
    "            cv2.putText(frame, \"Screenshot Taken\", (50, 50), cv2.FONT_HERSHEY_SIMPLEX, 1, (255, 255, 0), 2)\n",
    "\n",
    "            \n"
   ]
  },
  {
   "cell_type": "code",
   "execution_count": null,
   "id": "e95b60bf-0dad-467e-84e2-dcaac6db6ee7",
   "metadata": {},
   "outputs": [],
   "source": [
    "def main():\n",
    "    cap = cv2.VideoCapture(0)\n",
    "    draw = mp.solutions.drawing_utils\n",
    "\n",
    "    try:\n",
    "        while cap.isOpened():\n",
    "            ret, frame = cap.read()\n",
    "\n",
    "            if not ret :\n",
    "                break\n",
    "            frame = cv2.flip(frame, 1)\n",
    "            frameRGB = cv2.cvtColor(frame, cv2.COLOR_BGR2RGB)\n",
    "            processed = hands.process(frameRGB)\n",
    "\n",
    "            landmarks_list = []\n",
    "\n",
    "            if processed.multi_hand_landmarks:\n",
    "                hand_landmarks = processed.multi_hand_landmarks[0]\n",
    "                draw.draw_landmarks(frame, hand_landmarks, mpHands.HAND_CONNECTIONS)\n",
    "\n",
    "                for lm in hand_landmarks.landmark:\n",
    "                    landmarks_list.append((lm.x, lm.y))\n",
    "\n",
    "            detect_gesture(frame, landmarks_list, processed)\n",
    "\n",
    "                # print(landmarks_list)\n",
    "\n",
    "            cv2.imshow('Frame', frame)\n",
    "            if cv2.waitKey(1) & 0xFF == ord('q'):\n",
    "                break\n",
    "\n",
    "    finally:\n",
    "        cap.release()\n",
    "        cv2.destroyAllWindows()\n",
    "\n",
    "if __name__ == '__main__':\n",
    "    main()\n"
   ]
  },
  {
   "cell_type": "code",
   "execution_count": null,
   "id": "6c6b8ad6-6045-41c8-8070-a29e27d3d7ee",
   "metadata": {},
   "outputs": [],
   "source": [
    "\n"
   ]
  },
  {
   "cell_type": "code",
   "execution_count": null,
   "id": "584ae648-9cea-4a2a-8c5a-f2570d96592c",
   "metadata": {},
   "outputs": [],
   "source": []
  },
  {
   "cell_type": "code",
   "execution_count": null,
   "id": "b08c9c5a-9e62-4826-8ab3-5193e3846971",
   "metadata": {},
   "outputs": [],
   "source": []
  },
  {
   "cell_type": "code",
   "execution_count": null,
   "id": "cf930d0d-98f4-44f9-9e90-b57e8eb9ffe6",
   "metadata": {},
   "outputs": [],
   "source": []
  },
  {
   "cell_type": "code",
   "execution_count": null,
   "id": "72a3d01c-91c6-438c-9df2-6723b11b631f",
   "metadata": {},
   "outputs": [],
   "source": []
  }
 ],
 "metadata": {
  "kernelspec": {
   "display_name": "Python 3 (ipykernel)",
   "language": "python",
   "name": "python3"
  },
  "language_info": {
   "codemirror_mode": {
    "name": "ipython",
    "version": 3
   },
   "file_extension": ".py",
   "mimetype": "text/x-python",
   "name": "python",
   "nbconvert_exporter": "python",
   "pygments_lexer": "ipython3",
   "version": "3.11.7"
  }
 },
 "nbformat": 4,
 "nbformat_minor": 5
}
